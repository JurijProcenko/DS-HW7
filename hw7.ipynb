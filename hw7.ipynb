{
 "cells": [
  {
   "cell_type": "code",
   "execution_count": 14,
   "metadata": {},
   "outputs": [],
   "source": [
    "from surprise import accuracy, Dataset, Reader, SVD, SVDpp, NMF\n",
    "from surprise.model_selection import cross_validate, train_test_split\n",
    "import pandas as pd\n",
    "import numpy as np\n",
    "from pathlib import Path"
   ]
  },
  {
   "cell_type": "markdown",
   "metadata": {},
   "source": [
    "Load dataset and build SVD-model"
   ]
  },
  {
   "cell_type": "code",
   "execution_count": 10,
   "metadata": {},
   "outputs": [
    {
     "name": "stdout",
     "output_type": "stream",
     "text": [
      "Evaluating RMSE, MAE of algorithm SVD on 5 split(s).\n",
      "\n",
      "                  Fold 1  Fold 2  Fold 3  Fold 4  Fold 5  Mean    Std     \n",
      "RMSE (testset)    0.9396  0.9301  0.9351  0.9430  0.9379  0.9371  0.0044  \n",
      "MAE (testset)     0.7406  0.7325  0.7388  0.7442  0.7400  0.7392  0.0038  \n",
      "Fit time          1.93    2.08    1.98    1.84    1.96    1.96    0.08    \n",
      "Test time         0.36    0.17    0.32    0.49    0.23    0.31    0.11    \n"
     ]
    },
    {
     "data": {
      "text/plain": [
       "{'test_rmse': array([0.93955028, 0.93008339, 0.935067  , 0.94300896, 0.93789281]),\n",
       " 'test_mae': array([0.7405517 , 0.73246584, 0.73880387, 0.74415654, 0.73995683]),\n",
       " 'fit_time': (1.9284696578979492,\n",
       "  2.0840883255004883,\n",
       "  1.977628231048584,\n",
       "  1.8379523754119873,\n",
       "  1.9552984237670898),\n",
       " 'test_time': (0.36114978790283203,\n",
       "  0.16895627975463867,\n",
       "  0.32081055641174316,\n",
       "  0.49469470977783203,\n",
       "  0.22909784317016602)}"
      ]
     },
     "execution_count": 10,
     "metadata": {},
     "output_type": "execute_result"
    }
   ],
   "source": [
    "data = Dataset.load_builtin(name='ml-100k', prompt=False)\n",
    "algo = SVD(random_state=42)\n",
    "cross_validate(algo, data, measures=['RMSE', 'MAE'], cv=5, verbose=True)"
   ]
  },
  {
   "cell_type": "code",
   "execution_count": 13,
   "metadata": {},
   "outputs": [
    {
     "name": "stdout",
     "output_type": "stream",
     "text": [
      "Evaluating RMSE, MAE of algorithm SVDpp on 5 split(s).\n",
      "\n",
      "                  Fold 1  Fold 2  Fold 3  Fold 4  Fold 5  Mean    Std     \n",
      "RMSE (testset)    0.9220  0.9155  0.9199  0.9244  0.9152  0.9194  0.0036  \n",
      "MAE (testset)     0.7220  0.7217  0.7244  0.7245  0.7163  0.7218  0.0030  \n",
      "Fit time          21.37   22.66   22.60   23.29   25.85   23.15   1.49    \n",
      "Test time         6.96    6.65    5.64    7.56    5.83    6.53    0.71    \n"
     ]
    },
    {
     "data": {
      "text/plain": [
       "{'test_rmse': array([0.92198692, 0.91554194, 0.91991967, 0.92441619, 0.91518876]),\n",
       " 'test_mae': array([0.72198406, 0.72171568, 0.72441959, 0.72454989, 0.71629049]),\n",
       " 'fit_time': (21.365551710128784,\n",
       "  22.658787488937378,\n",
       "  22.59804916381836,\n",
       "  23.28734254837036,\n",
       "  25.85115957260132),\n",
       " 'test_time': (6.957208156585693,\n",
       "  6.650058031082153,\n",
       "  5.63635516166687,\n",
       "  7.562608480453491,\n",
       "  5.831348180770874)}"
      ]
     },
     "execution_count": 13,
     "metadata": {},
     "output_type": "execute_result"
    }
   ],
   "source": [
    "algo = SVDpp(cache_ratings=True, random_state=42)\n",
    "cross_validate(algo, data, measures=['RMSE', 'MAE'], cv=5, verbose=True)"
   ]
  },
  {
   "cell_type": "code",
   "execution_count": 15,
   "metadata": {},
   "outputs": [
    {
     "name": "stdout",
     "output_type": "stream",
     "text": [
      "Evaluating RMSE, MAE of algorithm NMF on 5 split(s).\n",
      "\n",
      "                  Fold 1  Fold 2  Fold 3  Fold 4  Fold 5  Mean    Std     \n",
      "RMSE (testset)    0.9646  0.9685  0.9689  0.9606  0.9640  0.9653  0.0031  \n",
      "MAE (testset)     0.7610  0.7613  0.7603  0.7556  0.7581  0.7593  0.0022  \n",
      "Fit time          3.56    2.96    2.77    3.22    3.08    3.12    0.26    \n",
      "Test time         0.14    0.22    0.16    0.14    0.15    0.16    0.03    \n"
     ]
    },
    {
     "data": {
      "text/plain": [
       "{'test_rmse': array([0.96458883, 0.96853584, 0.96893063, 0.96060864, 0.96404637]),\n",
       " 'test_mae': array([0.76103486, 0.76127003, 0.76032378, 0.75555002, 0.75811117]),\n",
       " 'fit_time': (3.556274890899658,\n",
       "  2.957935333251953,\n",
       "  2.770885467529297,\n",
       "  3.220440149307251,\n",
       "  3.0832881927490234),\n",
       " 'test_time': (0.1398477554321289,\n",
       "  0.21566367149353027,\n",
       "  0.16028738021850586,\n",
       "  0.14400720596313477,\n",
       "  0.1490776538848877)}"
      ]
     },
     "execution_count": 15,
     "metadata": {},
     "output_type": "execute_result"
    }
   ],
   "source": [
    "algo = NMF()\n",
    "cross_validate(algo, data, measures=['RMSE', 'MAE'], cv=5, verbose=True)"
   ]
  }
 ],
 "metadata": {
  "kernelspec": {
   "display_name": "Python 3",
   "language": "python",
   "name": "python3"
  },
  "language_info": {
   "codemirror_mode": {
    "name": "ipython",
    "version": 3
   },
   "file_extension": ".py",
   "mimetype": "text/x-python",
   "name": "python",
   "nbconvert_exporter": "python",
   "pygments_lexer": "ipython3",
   "version": "3.11.7"
  }
 },
 "nbformat": 4,
 "nbformat_minor": 2
}
